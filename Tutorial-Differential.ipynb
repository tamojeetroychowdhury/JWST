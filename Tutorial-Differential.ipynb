{
 "cells": [
  {
   "cell_type": "code",
   "execution_count": 1,
   "id": "44f02424-fbf9-428e-90c9-c050298effbf",
   "metadata": {},
   "outputs": [],
   "source": [
    "from astropy.io import fits\n",
    "import matplotlib.pyplot as plt\n",
    "import numpy as np\n",
    "import os\n",
    "from photutils.aperture import CircularAnnulus, CircularAperture, aperture_photometry, ApertureStats\n",
    "from astropy.stats import SigmaClip\n",
    "\n",
    "#from jwst.residual_fringe.utils import fit_residual_fringes_1d as rf1d\n",
    "\n",
    "import glob\n",
    "from photutils.aperture import aperture_photometry, CircularAperture\n",
    "\n",
    "#files_ch1 = sorted(glob.glob(\"/aux/vcompute3a/tamojeet/workspace/jwst_new/Calints Trials/S3D/*ch1*s3d.fits\"))\n",
    "files_ch1 = sorted(glob.glob(\"6_2/*ch1*s3d.fits\"))\n",
    "files_ch2 = sorted(glob.glob(\"6_2/*ch2*s3d.fits\"))\n",
    "files_ch3 = sorted(glob.glob(\"6_2/*ch3*s3d.fits\"))\n",
    "files_ch4 = sorted(glob.glob(\"6_2/*ch4*s3d.fits\"))\n",
    "#files_ch1\n",
    "# files_ch1, files_ch2, files_ch3, files_ch4"
   ]
  },
  {
   "cell_type": "markdown",
   "id": "d32049bc",
   "metadata": {},
   "source": [
    "### Code for differential image making. To get the times array, run any one of the channel-lightcurve making cells below these _first_.\n",
    "\n",
    "#### _Note_: The files are not in order because alphabetically 10 (or 11 or 12. . .) comes before 2 (or 3/4/5. . . ) - my bad naming! To sort them in correct order, we use the goodorder cell below which sorts by time"
   ]
  },
  {
   "cell_type": "code",
   "execution_count": 4,
   "id": "71e26e7d",
   "metadata": {},
   "outputs": [
    {
     "name": "stderr",
     "output_type": "stream",
     "text": [
      "/tmp/ipykernel_484/1910202042.py:5: RuntimeWarning: Mean of empty slice\n",
      "  data = np.nanmean(ff[1].data, axis = 0)\n"
     ]
    },
    {
     "data": {
      "text/plain": [
       "array([ 0,  9, 10, 11, 12, 13, 14, 15, 16, 17,  1,  2,  3,  4,  5,  6,  7,\n",
       "        8, 18, 27, 28, 29, 30, 31, 32, 33, 34, 35, 19, 20, 21, 22, 23, 24,\n",
       "       25, 26, 36, 45, 46, 47, 48, 49, 50, 51, 52, 53, 37, 38, 39, 40, 41,\n",
       "       42, 43, 44, 54, 63, 64, 65, 66, 67, 68, 69, 70, 71, 55, 56, 57, 58,\n",
       "       59, 60, 61, 62, 72, 76, 77, 78, 79, 80, 81, 82, 83, 84, 73, 74, 75])"
      ]
     },
     "execution_count": 4,
     "metadata": {},
     "output_type": "execute_result"
    }
   ],
   "source": [
    "files = files_ch4\n",
    "times = np.zeros(85)\n",
    "for i in range(85):\n",
    "    ff = fits.open(files[i])\n",
    "    data = np.nanmean(ff[1].data, axis = 0)\n",
    "    h = ff[0].header\n",
    "    if h[\"DATE-OBS\"] == '2024-04-06':\n",
    "        t = h['EXPSTART']-60400 + (h['INTSTART']+h['INTEND'])/2*h['EFFINTTM']/86400\n",
    "        times[i] = t\n",
    "\n",
    "goodorder = np.argsort(times)\n",
    "goodorder"
   ]
  },
  {
   "cell_type": "code",
   "execution_count": 219,
   "id": "51c829c1",
   "metadata": {},
   "outputs": [
    {
     "name": "stderr",
     "output_type": "stream",
     "text": [
      "/home/tamojeet/.local/lib/python3.8/site-packages/numpy/lib/nanfunctions.py:1095: RuntimeWarning: All-NaN slice encountered\n",
      "  result = np.apply_along_axis(_nanmedian1d, axis, a, overwrite_input)\n"
     ]
    }
   ],
   "source": [
    "stack1 = np.array([np.nanmedian(fits.open(files_ch1[goodorder[i]])[1].data, axis=0) for i in range(85)])\n",
    "\n",
    "for i in range(stack1.shape[1]):\n",
    "    for j in range(stack1.shape[2]):\n",
    "        stack1[:,i,j] -= np.nanmedian(stack1[:,i,j])\n",
    "        \n",
    "hh = fits.open(files_ch1[25])[1].header\n",
    "newd = fits.PrimaryHDU(data=stack1, header=hh)\n",
    "newd.writeto('Integration_stack/ch1-6apr.fits',overwrite=True)"
   ]
  }
 ],
 "metadata": {
  "kernelspec": {
   "display_name": "Python 3 (ipykernel)",
   "language": "python",
   "name": "python3"
  },
  "language_info": {
   "codemirror_mode": {
    "name": "ipython",
    "version": 3
   },
   "file_extension": ".py",
   "mimetype": "text/x-python",
   "name": "python",
   "nbconvert_exporter": "python",
   "pygments_lexer": "ipython3",
   "version": "3.8.10"
  }
 },
 "nbformat": 4,
 "nbformat_minor": 5
}
